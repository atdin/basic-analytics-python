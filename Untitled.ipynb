{
 "cells": [
  {
   "cell_type": "code",
   "execution_count": 1,
   "id": "73651120",
   "metadata": {},
   "outputs": [],
   "source": [
    "import pandas"
   ]
  },
  {
   "cell_type": "code",
   "execution_count": 2,
   "id": "b725692f",
   "metadata": {},
   "outputs": [
    {
     "data": {
      "text/plain": [
       "<module 'pandas' from 'C:\\\\Users\\\\athaikdin\\\\anaconda3\\\\lib\\\\site-packages\\\\pandas\\\\__init__.py'>"
      ]
     },
     "execution_count": 2,
     "metadata": {},
     "output_type": "execute_result"
    }
   ],
   "source": [
    "pandas"
   ]
  },
  {
   "cell_type": "code",
   "execution_count": 3,
   "id": "e51008e2",
   "metadata": {},
   "outputs": [],
   "source": [
    "import pandas as pd"
   ]
  },
  {
   "cell_type": "code",
   "execution_count": 4,
   "id": "5692cb52",
   "metadata": {},
   "outputs": [
    {
     "data": {
      "text/plain": [
       "<module 'pandas' from 'C:\\\\Users\\\\athaikdin\\\\anaconda3\\\\lib\\\\site-packages\\\\pandas\\\\__init__.py'>"
      ]
     },
     "execution_count": 4,
     "metadata": {},
     "output_type": "execute_result"
    }
   ],
   "source": [
    "pd"
   ]
  },
  {
   "cell_type": "code",
   "execution_count": 5,
   "id": "7991619b",
   "metadata": {},
   "outputs": [],
   "source": [
    "from pandas import DataFrame"
   ]
  },
  {
   "cell_type": "code",
   "execution_count": 22,
   "id": "729633e3",
   "metadata": {},
   "outputs": [],
   "source": [
    "bank = pd.read_csv('Data/Bank.csv')"
   ]
  },
  {
   "cell_type": "code",
   "execution_count": 7,
   "id": "bbe8321f",
   "metadata": {},
   "outputs": [
    {
     "ename": "NameError",
     "evalue": "name 'read_csv' is not defined",
     "output_type": "error",
     "traceback": [
      "\u001b[1;31m---------------------------------------------------------------------------\u001b[0m",
      "\u001b[1;31mNameError\u001b[0m                                 Traceback (most recent call last)",
      "\u001b[1;32mC:\\Users\\ATHAIK~1\\AppData\\Local\\Temp/ipykernel_2208/1780695544.py\u001b[0m in \u001b[0;36m<module>\u001b[1;34m\u001b[0m\n\u001b[1;32m----> 1\u001b[1;33m \u001b[0mread_csv\u001b[0m\u001b[1;33m\u001b[0m\u001b[1;33m\u001b[0m\u001b[0m\n\u001b[0m",
      "\u001b[1;31mNameError\u001b[0m: name 'read_csv' is not defined"
     ]
    }
   ],
   "source": [
    "read_csv"
   ]
  },
  {
   "cell_type": "code",
   "execution_count": 8,
   "id": "2abfea7f",
   "metadata": {},
   "outputs": [
    {
     "data": {
      "text/plain": [
       "<function pandas.io.parsers.readers.read_csv(filepath_or_buffer: 'FilePathOrBuffer', sep=<no_default>, delimiter=None, header='infer', names=<no_default>, index_col=None, usecols=None, squeeze=False, prefix=<no_default>, mangle_dupe_cols=True, dtype: 'DtypeArg | None' = None, engine=None, converters=None, true_values=None, false_values=None, skipinitialspace=False, skiprows=None, skipfooter=0, nrows=None, na_values=None, keep_default_na=True, na_filter=True, verbose=False, skip_blank_lines=True, parse_dates=False, infer_datetime_format=False, keep_date_col=False, date_parser=None, dayfirst=False, cache_dates=True, iterator=False, chunksize=None, compression='infer', thousands=None, decimal: 'str' = '.', lineterminator=None, quotechar='\"', quoting=0, doublequote=True, escapechar=None, comment=None, encoding=None, encoding_errors: 'str | None' = 'strict', dialect=None, error_bad_lines=None, warn_bad_lines=None, on_bad_lines=None, delim_whitespace=False, low_memory=True, memory_map=False, float_precision=None, storage_options: 'StorageOptions' = None)>"
      ]
     },
     "execution_count": 8,
     "metadata": {},
     "output_type": "execute_result"
    }
   ],
   "source": [
    "pd.read_csv"
   ]
  },
  {
   "cell_type": "code",
   "execution_count": 9,
   "id": "f0874b09",
   "metadata": {},
   "outputs": [
    {
     "data": {
      "text/html": [
       "<div>\n",
       "<style scoped>\n",
       "    .dataframe tbody tr th:only-of-type {\n",
       "        vertical-align: middle;\n",
       "    }\n",
       "\n",
       "    .dataframe tbody tr th {\n",
       "        vertical-align: top;\n",
       "    }\n",
       "\n",
       "    .dataframe thead th {\n",
       "        text-align: right;\n",
       "    }\n",
       "</style>\n",
       "<table border=\"1\" class=\"dataframe\">\n",
       "  <thead>\n",
       "    <tr style=\"text-align: right;\">\n",
       "      <th></th>\n",
       "      <th>Employee</th>\n",
       "      <th>EducLev</th>\n",
       "      <th>JobGrade</th>\n",
       "      <th>YrHired</th>\n",
       "      <th>YrBorn</th>\n",
       "      <th>Gender</th>\n",
       "      <th>YrsPrior</th>\n",
       "      <th>PCJob</th>\n",
       "      <th>Salary</th>\n",
       "    </tr>\n",
       "  </thead>\n",
       "  <tbody>\n",
       "    <tr>\n",
       "      <th>0</th>\n",
       "      <td>1</td>\n",
       "      <td>3</td>\n",
       "      <td>1</td>\n",
       "      <td>92</td>\n",
       "      <td>69</td>\n",
       "      <td>Male</td>\n",
       "      <td>1</td>\n",
       "      <td>No</td>\n",
       "      <td>32.0</td>\n",
       "    </tr>\n",
       "    <tr>\n",
       "      <th>1</th>\n",
       "      <td>2</td>\n",
       "      <td>1</td>\n",
       "      <td>1</td>\n",
       "      <td>81</td>\n",
       "      <td>57</td>\n",
       "      <td>Female</td>\n",
       "      <td>1</td>\n",
       "      <td>No</td>\n",
       "      <td>39.1</td>\n",
       "    </tr>\n",
       "    <tr>\n",
       "      <th>2</th>\n",
       "      <td>3</td>\n",
       "      <td>1</td>\n",
       "      <td>1</td>\n",
       "      <td>83</td>\n",
       "      <td>60</td>\n",
       "      <td>Female</td>\n",
       "      <td>0</td>\n",
       "      <td>No</td>\n",
       "      <td>33.2</td>\n",
       "    </tr>\n",
       "    <tr>\n",
       "      <th>3</th>\n",
       "      <td>4</td>\n",
       "      <td>2</td>\n",
       "      <td>1</td>\n",
       "      <td>87</td>\n",
       "      <td>55</td>\n",
       "      <td>Female</td>\n",
       "      <td>7</td>\n",
       "      <td>No</td>\n",
       "      <td>30.6</td>\n",
       "    </tr>\n",
       "    <tr>\n",
       "      <th>4</th>\n",
       "      <td>5</td>\n",
       "      <td>3</td>\n",
       "      <td>1</td>\n",
       "      <td>92</td>\n",
       "      <td>67</td>\n",
       "      <td>Male</td>\n",
       "      <td>0</td>\n",
       "      <td>No</td>\n",
       "      <td>29.0</td>\n",
       "    </tr>\n",
       "  </tbody>\n",
       "</table>\n",
       "</div>"
      ],
      "text/plain": [
       "   Employee  EducLev  JobGrade  YrHired  YrBorn  Gender  YrsPrior PCJob  \\\n",
       "0         1        3         1       92      69    Male         1    No   \n",
       "1         2        1         1       81      57  Female         1    No   \n",
       "2         3        1         1       83      60  Female         0    No   \n",
       "3         4        2         1       87      55  Female         7    No   \n",
       "4         5        3         1       92      67    Male         0    No   \n",
       "\n",
       "   Salary  \n",
       "0    32.0  \n",
       "1    39.1  \n",
       "2    33.2  \n",
       "3    30.6  \n",
       "4    29.0  "
      ]
     },
     "execution_count": 9,
     "metadata": {},
     "output_type": "execute_result"
    }
   ],
   "source": [
    "bank.head()"
   ]
  },
  {
   "cell_type": "code",
   "execution_count": 10,
   "id": "68efe1e4",
   "metadata": {},
   "outputs": [
    {
     "data": {
      "text/plain": [
       "(74, 9)"
      ]
     },
     "execution_count": 10,
     "metadata": {},
     "output_type": "execute_result"
    }
   ],
   "source": [
    "bank.shape"
   ]
  },
  {
   "cell_type": "code",
   "execution_count": 11,
   "id": "b5f52a8c",
   "metadata": {},
   "outputs": [
    {
     "data": {
      "text/html": [
       "<div>\n",
       "<style scoped>\n",
       "    .dataframe tbody tr th:only-of-type {\n",
       "        vertical-align: middle;\n",
       "    }\n",
       "\n",
       "    .dataframe tbody tr th {\n",
       "        vertical-align: top;\n",
       "    }\n",
       "\n",
       "    .dataframe thead th {\n",
       "        text-align: right;\n",
       "    }\n",
       "</style>\n",
       "<table border=\"1\" class=\"dataframe\">\n",
       "  <thead>\n",
       "    <tr style=\"text-align: right;\">\n",
       "      <th></th>\n",
       "      <th>Employee</th>\n",
       "      <th>EducLev</th>\n",
       "      <th>JobGrade</th>\n",
       "      <th>YrHired</th>\n",
       "      <th>YrBorn</th>\n",
       "      <th>YrsPrior</th>\n",
       "      <th>Salary</th>\n",
       "    </tr>\n",
       "  </thead>\n",
       "  <tbody>\n",
       "    <tr>\n",
       "      <th>count</th>\n",
       "      <td>74.000000</td>\n",
       "      <td>74.000000</td>\n",
       "      <td>74.0</td>\n",
       "      <td>74.000000</td>\n",
       "      <td>74.000000</td>\n",
       "      <td>74.000000</td>\n",
       "      <td>74.000000</td>\n",
       "    </tr>\n",
       "    <tr>\n",
       "      <th>mean</th>\n",
       "      <td>37.500000</td>\n",
       "      <td>2.013514</td>\n",
       "      <td>1.0</td>\n",
       "      <td>89.824324</td>\n",
       "      <td>69.567568</td>\n",
       "      <td>4.567568</td>\n",
       "      <td>30.544839</td>\n",
       "    </tr>\n",
       "    <tr>\n",
       "      <th>std</th>\n",
       "      <td>21.505813</td>\n",
       "      <td>0.851964</td>\n",
       "      <td>0.0</td>\n",
       "      <td>5.744224</td>\n",
       "      <td>11.366957</td>\n",
       "      <td>3.025377</td>\n",
       "      <td>3.121911</td>\n",
       "    </tr>\n",
       "    <tr>\n",
       "      <th>min</th>\n",
       "      <td>1.000000</td>\n",
       "      <td>1.000000</td>\n",
       "      <td>1.0</td>\n",
       "      <td>80.000000</td>\n",
       "      <td>52.000000</td>\n",
       "      <td>0.000000</td>\n",
       "      <td>25.004630</td>\n",
       "    </tr>\n",
       "    <tr>\n",
       "      <th>25%</th>\n",
       "      <td>19.250000</td>\n",
       "      <td>1.000000</td>\n",
       "      <td>1.0</td>\n",
       "      <td>85.250000</td>\n",
       "      <td>60.000000</td>\n",
       "      <td>2.000000</td>\n",
       "      <td>27.816861</td>\n",
       "    </tr>\n",
       "    <tr>\n",
       "      <th>50%</th>\n",
       "      <td>37.500000</td>\n",
       "      <td>2.000000</td>\n",
       "      <td>1.0</td>\n",
       "      <td>89.000000</td>\n",
       "      <td>69.000000</td>\n",
       "      <td>4.000000</td>\n",
       "      <td>30.646686</td>\n",
       "    </tr>\n",
       "    <tr>\n",
       "      <th>75%</th>\n",
       "      <td>55.750000</td>\n",
       "      <td>3.000000</td>\n",
       "      <td>1.0</td>\n",
       "      <td>95.000000</td>\n",
       "      <td>80.750000</td>\n",
       "      <td>7.000000</td>\n",
       "      <td>33.178027</td>\n",
       "    </tr>\n",
       "    <tr>\n",
       "      <th>max</th>\n",
       "      <td>74.000000</td>\n",
       "      <td>3.000000</td>\n",
       "      <td>1.0</td>\n",
       "      <td>99.000000</td>\n",
       "      <td>89.000000</td>\n",
       "      <td>10.000000</td>\n",
       "      <td>39.100000</td>\n",
       "    </tr>\n",
       "  </tbody>\n",
       "</table>\n",
       "</div>"
      ],
      "text/plain": [
       "        Employee    EducLev  JobGrade    YrHired     YrBorn   YrsPrior  \\\n",
       "count  74.000000  74.000000      74.0  74.000000  74.000000  74.000000   \n",
       "mean   37.500000   2.013514       1.0  89.824324  69.567568   4.567568   \n",
       "std    21.505813   0.851964       0.0   5.744224  11.366957   3.025377   \n",
       "min     1.000000   1.000000       1.0  80.000000  52.000000   0.000000   \n",
       "25%    19.250000   1.000000       1.0  85.250000  60.000000   2.000000   \n",
       "50%    37.500000   2.000000       1.0  89.000000  69.000000   4.000000   \n",
       "75%    55.750000   3.000000       1.0  95.000000  80.750000   7.000000   \n",
       "max    74.000000   3.000000       1.0  99.000000  89.000000  10.000000   \n",
       "\n",
       "          Salary  \n",
       "count  74.000000  \n",
       "mean   30.544839  \n",
       "std     3.121911  \n",
       "min    25.004630  \n",
       "25%    27.816861  \n",
       "50%    30.646686  \n",
       "75%    33.178027  \n",
       "max    39.100000  "
      ]
     },
     "execution_count": 11,
     "metadata": {},
     "output_type": "execute_result"
    }
   ],
   "source": [
    "bank.describe()"
   ]
  },
  {
   "cell_type": "code",
   "execution_count": 12,
   "id": "58317852",
   "metadata": {},
   "outputs": [
    {
     "name": "stdout",
     "output_type": "stream",
     "text": [
      "<class 'pandas.core.frame.DataFrame'>\n",
      "RangeIndex: 74 entries, 0 to 73\n",
      "Data columns (total 9 columns):\n",
      " #   Column    Non-Null Count  Dtype  \n",
      "---  ------    --------------  -----  \n",
      " 0   Employee  74 non-null     int64  \n",
      " 1   EducLev   74 non-null     int64  \n",
      " 2   JobGrade  74 non-null     int64  \n",
      " 3   YrHired   74 non-null     int64  \n",
      " 4   YrBorn    74 non-null     int64  \n",
      " 5   Gender    74 non-null     object \n",
      " 6   YrsPrior  74 non-null     int64  \n",
      " 7   PCJob     74 non-null     object \n",
      " 8   Salary    74 non-null     float64\n",
      "dtypes: float64(1), int64(6), object(2)\n",
      "memory usage: 5.3+ KB\n"
     ]
    }
   ],
   "source": [
    "bank.info()"
   ]
  },
  {
   "cell_type": "code",
   "execution_count": 13,
   "id": "ed0af29d",
   "metadata": {},
   "outputs": [
    {
     "data": {
      "text/plain": [
       "0       Male\n",
       "1     Female\n",
       "2     Female\n",
       "3     Female\n",
       "4       Male\n",
       "       ...  \n",
       "69    Female\n",
       "70      Male\n",
       "71    Female\n",
       "72      Male\n",
       "73    Female\n",
       "Name: Gender, Length: 74, dtype: category\n",
       "Categories (2, object): ['Female', 'Male']"
      ]
     },
     "execution_count": 13,
     "metadata": {},
     "output_type": "execute_result"
    }
   ],
   "source": [
    "bank.Gender.astype('category')"
   ]
  },
  {
   "cell_type": "code",
   "execution_count": 14,
   "id": "0ca7e3a9",
   "metadata": {},
   "outputs": [],
   "source": []
  },
  {
   "cell_type": "code",
   "execution_count": 15,
   "id": "7ef063fc",
   "metadata": {},
   "outputs": [
    {
     "data": {
      "text/plain": [
       "<bound method NDFrame.describe of     Employee  EducLev  JobGrade  YrHired  YrBorn  Gender  YrsPrior PCJob  \\\n",
       "0          1        3         1       92      69    Male         1    No   \n",
       "1          2        1         1       81      57  Female         1    No   \n",
       "2          3        1         1       83      60  Female         0    No   \n",
       "3          4        2         1       87      55  Female         7    No   \n",
       "4          5        3         1       92      67    Male         0    No   \n",
       "..       ...      ...       ...      ...     ...     ...       ...   ...   \n",
       "69        70        2         1       99      69  Female         0    No   \n",
       "70        71        1         1       97      72    Male         3    No   \n",
       "71        72        3         1       89      60  Female         0    No   \n",
       "72        73        3         1       84      70    Male         2    No   \n",
       "73        74        2         1       88      63  Female         7   Yes   \n",
       "\n",
       "       Salary  \n",
       "0   32.000000  \n",
       "1   39.100000  \n",
       "2   33.200000  \n",
       "3   30.600000  \n",
       "4   29.000000  \n",
       "..        ...  \n",
       "69  30.446534  \n",
       "70  27.076937  \n",
       "71  27.736047  \n",
       "72  34.078258  \n",
       "73  29.479103  \n",
       "\n",
       "[74 rows x 9 columns]>"
      ]
     },
     "execution_count": 15,
     "metadata": {},
     "output_type": "execute_result"
    }
   ],
   "source": [
    "bank.describe"
   ]
  },
  {
   "cell_type": "code",
   "execution_count": 16,
   "id": "922747f1",
   "metadata": {},
   "outputs": [
    {
     "data": {
      "text/html": [
       "<div>\n",
       "<style scoped>\n",
       "    .dataframe tbody tr th:only-of-type {\n",
       "        vertical-align: middle;\n",
       "    }\n",
       "\n",
       "    .dataframe tbody tr th {\n",
       "        vertical-align: top;\n",
       "    }\n",
       "\n",
       "    .dataframe thead th {\n",
       "        text-align: right;\n",
       "    }\n",
       "</style>\n",
       "<table border=\"1\" class=\"dataframe\">\n",
       "  <thead>\n",
       "    <tr style=\"text-align: right;\">\n",
       "      <th></th>\n",
       "      <th>Employee</th>\n",
       "      <th>EducLev</th>\n",
       "      <th>JobGrade</th>\n",
       "      <th>YrHired</th>\n",
       "      <th>YrBorn</th>\n",
       "      <th>YrsPrior</th>\n",
       "      <th>Salary</th>\n",
       "    </tr>\n",
       "  </thead>\n",
       "  <tbody>\n",
       "    <tr>\n",
       "      <th>count</th>\n",
       "      <td>74.000000</td>\n",
       "      <td>74.000000</td>\n",
       "      <td>74.0</td>\n",
       "      <td>74.000000</td>\n",
       "      <td>74.000000</td>\n",
       "      <td>74.000000</td>\n",
       "      <td>74.000000</td>\n",
       "    </tr>\n",
       "    <tr>\n",
       "      <th>mean</th>\n",
       "      <td>37.500000</td>\n",
       "      <td>2.013514</td>\n",
       "      <td>1.0</td>\n",
       "      <td>89.824324</td>\n",
       "      <td>69.567568</td>\n",
       "      <td>4.567568</td>\n",
       "      <td>30.544839</td>\n",
       "    </tr>\n",
       "    <tr>\n",
       "      <th>std</th>\n",
       "      <td>21.505813</td>\n",
       "      <td>0.851964</td>\n",
       "      <td>0.0</td>\n",
       "      <td>5.744224</td>\n",
       "      <td>11.366957</td>\n",
       "      <td>3.025377</td>\n",
       "      <td>3.121911</td>\n",
       "    </tr>\n",
       "    <tr>\n",
       "      <th>min</th>\n",
       "      <td>1.000000</td>\n",
       "      <td>1.000000</td>\n",
       "      <td>1.0</td>\n",
       "      <td>80.000000</td>\n",
       "      <td>52.000000</td>\n",
       "      <td>0.000000</td>\n",
       "      <td>25.004630</td>\n",
       "    </tr>\n",
       "    <tr>\n",
       "      <th>25%</th>\n",
       "      <td>19.250000</td>\n",
       "      <td>1.000000</td>\n",
       "      <td>1.0</td>\n",
       "      <td>85.250000</td>\n",
       "      <td>60.000000</td>\n",
       "      <td>2.000000</td>\n",
       "      <td>27.816861</td>\n",
       "    </tr>\n",
       "    <tr>\n",
       "      <th>50%</th>\n",
       "      <td>37.500000</td>\n",
       "      <td>2.000000</td>\n",
       "      <td>1.0</td>\n",
       "      <td>89.000000</td>\n",
       "      <td>69.000000</td>\n",
       "      <td>4.000000</td>\n",
       "      <td>30.646686</td>\n",
       "    </tr>\n",
       "    <tr>\n",
       "      <th>75%</th>\n",
       "      <td>55.750000</td>\n",
       "      <td>3.000000</td>\n",
       "      <td>1.0</td>\n",
       "      <td>95.000000</td>\n",
       "      <td>80.750000</td>\n",
       "      <td>7.000000</td>\n",
       "      <td>33.178027</td>\n",
       "    </tr>\n",
       "    <tr>\n",
       "      <th>max</th>\n",
       "      <td>74.000000</td>\n",
       "      <td>3.000000</td>\n",
       "      <td>1.0</td>\n",
       "      <td>99.000000</td>\n",
       "      <td>89.000000</td>\n",
       "      <td>10.000000</td>\n",
       "      <td>39.100000</td>\n",
       "    </tr>\n",
       "  </tbody>\n",
       "</table>\n",
       "</div>"
      ],
      "text/plain": [
       "        Employee    EducLev  JobGrade    YrHired     YrBorn   YrsPrior  \\\n",
       "count  74.000000  74.000000      74.0  74.000000  74.000000  74.000000   \n",
       "mean   37.500000   2.013514       1.0  89.824324  69.567568   4.567568   \n",
       "std    21.505813   0.851964       0.0   5.744224  11.366957   3.025377   \n",
       "min     1.000000   1.000000       1.0  80.000000  52.000000   0.000000   \n",
       "25%    19.250000   1.000000       1.0  85.250000  60.000000   2.000000   \n",
       "50%    37.500000   2.000000       1.0  89.000000  69.000000   4.000000   \n",
       "75%    55.750000   3.000000       1.0  95.000000  80.750000   7.000000   \n",
       "max    74.000000   3.000000       1.0  99.000000  89.000000  10.000000   \n",
       "\n",
       "          Salary  \n",
       "count  74.000000  \n",
       "mean   30.544839  \n",
       "std     3.121911  \n",
       "min    25.004630  \n",
       "25%    27.816861  \n",
       "50%    30.646686  \n",
       "75%    33.178027  \n",
       "max    39.100000  "
      ]
     },
     "execution_count": 16,
     "metadata": {},
     "output_type": "execute_result"
    }
   ],
   "source": [
    "bank.describe()"
   ]
  },
  {
   "cell_type": "code",
   "execution_count": 17,
   "id": "c8dbd1ff",
   "metadata": {},
   "outputs": [
    {
     "name": "stdout",
     "output_type": "stream",
     "text": [
      "<class 'pandas.core.frame.DataFrame'>\n",
      "RangeIndex: 74 entries, 0 to 73\n",
      "Data columns (total 9 columns):\n",
      " #   Column    Non-Null Count  Dtype   \n",
      "---  ------    --------------  -----   \n",
      " 0   Employee  74 non-null     int64   \n",
      " 1   EducLev   74 non-null     int64   \n",
      " 2   JobGrade  74 non-null     int64   \n",
      " 3   YrHired   74 non-null     int64   \n",
      " 4   YrBorn    74 non-null     int64   \n",
      " 5   Gender    74 non-null     category\n",
      " 6   YrsPrior  74 non-null     int64   \n",
      " 7   PCJob     74 non-null     object  \n",
      " 8   Salary    74 non-null     float64 \n",
      "dtypes: category(1), float64(1), int64(6), object(1)\n",
      "memory usage: 4.9+ KB\n"
     ]
    }
   ],
   "source": [
    "bank.info()"
   ]
  },
  {
   "cell_type": "code",
   "execution_count": 18,
   "id": "02d25cf1",
   "metadata": {},
   "outputs": [],
   "source": []
  },
  {
   "cell_type": "code",
   "execution_count": 19,
   "id": "c38afe9e",
   "metadata": {},
   "outputs": [
    {
     "name": "stdout",
     "output_type": "stream",
     "text": [
      "<class 'pandas.core.frame.DataFrame'>\n",
      "RangeIndex: 74 entries, 0 to 73\n",
      "Data columns (total 9 columns):\n",
      " #   Column    Non-Null Count  Dtype   \n",
      "---  ------    --------------  -----   \n",
      " 0   Employee  74 non-null     int64   \n",
      " 1   EducLev   74 non-null     int64   \n",
      " 2   JobGrade  74 non-null     int64   \n",
      " 3   YrHired   74 non-null     int64   \n",
      " 4   YrBorn    74 non-null     int64   \n",
      " 5   Gender    74 non-null     category\n",
      " 6   YrsPrior  74 non-null     int64   \n",
      " 7   PCJob     74 non-null     category\n",
      " 8   Salary    74 non-null     float64 \n",
      "dtypes: category(2), float64(1), int64(6)\n",
      "memory usage: 4.6 KB\n"
     ]
    }
   ],
   "source": [
    "bank.info()"
   ]
  },
  {
   "cell_type": "code",
   "execution_count": 20,
   "id": "ed653d57",
   "metadata": {},
   "outputs": [
    {
     "data": {
      "text/html": [
       "<div>\n",
       "<style scoped>\n",
       "    .dataframe tbody tr th:only-of-type {\n",
       "        vertical-align: middle;\n",
       "    }\n",
       "\n",
       "    .dataframe tbody tr th {\n",
       "        vertical-align: top;\n",
       "    }\n",
       "\n",
       "    .dataframe thead th {\n",
       "        text-align: right;\n",
       "    }\n",
       "</style>\n",
       "<table border=\"1\" class=\"dataframe\">\n",
       "  <thead>\n",
       "    <tr style=\"text-align: right;\">\n",
       "      <th></th>\n",
       "      <th>Gender</th>\n",
       "      <th>PCJob</th>\n",
       "    </tr>\n",
       "  </thead>\n",
       "  <tbody>\n",
       "    <tr>\n",
       "      <th>count</th>\n",
       "      <td>74</td>\n",
       "      <td>74</td>\n",
       "    </tr>\n",
       "    <tr>\n",
       "      <th>unique</th>\n",
       "      <td>2</td>\n",
       "      <td>2</td>\n",
       "    </tr>\n",
       "    <tr>\n",
       "      <th>top</th>\n",
       "      <td>Female</td>\n",
       "      <td>No</td>\n",
       "    </tr>\n",
       "    <tr>\n",
       "      <th>freq</th>\n",
       "      <td>38</td>\n",
       "      <td>73</td>\n",
       "    </tr>\n",
       "  </tbody>\n",
       "</table>\n",
       "</div>"
      ],
      "text/plain": [
       "        Gender PCJob\n",
       "count       74    74\n",
       "unique       2     2\n",
       "top     Female    No\n",
       "freq        38    73"
      ]
     },
     "execution_count": 20,
     "metadata": {},
     "output_type": "execute_result"
    }
   ],
   "source": [
    "bank.describe(include='category')"
   ]
  },
  {
   "cell_type": "code",
   "execution_count": 23,
   "id": "c6e2c3ec",
   "metadata": {},
   "outputs": [
    {
     "name": "stdout",
     "output_type": "stream",
     "text": [
      "<class 'pandas.core.frame.DataFrame'>\n",
      "RangeIndex: 74 entries, 0 to 73\n",
      "Data columns (total 9 columns):\n",
      " #   Column    Non-Null Count  Dtype  \n",
      "---  ------    --------------  -----  \n",
      " 0   Employee  74 non-null     int64  \n",
      " 1   EducLev   74 non-null     int64  \n",
      " 2   JobGrade  74 non-null     int64  \n",
      " 3   YrHired   74 non-null     int64  \n",
      " 4   YrBorn    74 non-null     int64  \n",
      " 5   Gender    74 non-null     object \n",
      " 6   YrsPrior  74 non-null     int64  \n",
      " 7   PCJob     74 non-null     object \n",
      " 8   Salary    74 non-null     float64\n",
      "dtypes: float64(1), int64(6), object(2)\n",
      "memory usage: 5.3+ KB\n"
     ]
    }
   ],
   "source": [
    "bank.info()"
   ]
  },
  {
   "cell_type": "code",
   "execution_count": 24,
   "id": "c2c789f0",
   "metadata": {},
   "outputs": [],
   "source": [
    "for col in ['Gender', 'PCJob']:\n",
    "    bank[col] = bank[col].astype('category')"
   ]
  },
  {
   "cell_type": "code",
   "execution_count": 25,
   "id": "26002a45",
   "metadata": {},
   "outputs": [
    {
     "name": "stdout",
     "output_type": "stream",
     "text": [
      "<class 'pandas.core.frame.DataFrame'>\n",
      "RangeIndex: 74 entries, 0 to 73\n",
      "Data columns (total 9 columns):\n",
      " #   Column    Non-Null Count  Dtype   \n",
      "---  ------    --------------  -----   \n",
      " 0   Employee  74 non-null     int64   \n",
      " 1   EducLev   74 non-null     int64   \n",
      " 2   JobGrade  74 non-null     int64   \n",
      " 3   YrHired   74 non-null     int64   \n",
      " 4   YrBorn    74 non-null     int64   \n",
      " 5   Gender    74 non-null     category\n",
      " 6   YrsPrior  74 non-null     int64   \n",
      " 7   PCJob     74 non-null     category\n",
      " 8   Salary    74 non-null     float64 \n",
      "dtypes: category(2), float64(1), int64(6)\n",
      "memory usage: 4.6 KB\n"
     ]
    }
   ],
   "source": [
    "bank.info()"
   ]
  },
  {
   "cell_type": "code",
   "execution_count": null,
   "id": "11349891",
   "metadata": {},
   "outputs": [],
   "source": []
  }
 ],
 "metadata": {
  "kernelspec": {
   "display_name": "Python 3 (ipykernel)",
   "language": "python",
   "name": "python3"
  },
  "language_info": {
   "codemirror_mode": {
    "name": "ipython",
    "version": 3
   },
   "file_extension": ".py",
   "mimetype": "text/x-python",
   "name": "python",
   "nbconvert_exporter": "python",
   "pygments_lexer": "ipython3",
   "version": "3.9.7"
  }
 },
 "nbformat": 4,
 "nbformat_minor": 5
}
